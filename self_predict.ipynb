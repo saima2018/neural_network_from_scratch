{
 "cells": [
  {
   "cell_type": "code",
   "execution_count": 4,
   "metadata": {},
   "outputs": [],
   "source": [
    "import numpy as np"
   ]
  },
  {
   "cell_type": "code",
   "execution_count": 5,
   "metadata": {},
   "outputs": [],
   "source": [
    "class Predict:\n",
    "    def __init__(self,km_mean,km_sd,age_mean,age_sd,price_min,price_max):\n",
    "        self.km_mean=km_mean\n",
    "        self.km_sd=km_sd\n",
    "        self.age_mean=age_mean\n",
    "        self.age_sd=age_sd\n",
    "        self.price_min=price_min\n",
    "        self.price_max=price_max\n",
    "        \n",
    "    def car(self,km,fuel,age):\n",
    "        km=(km-self.km_mean)/self.km_sd\n",
    "        fuel=-1 if fuel == 'Diesel' else 1\n",
    "        age=(age-self.age_mean)/self.age_sd\n",
    "        return np.matrix([[km,fuel,age]])\n",
    "    \n",
    "    def output(self,price):\n",
    "        return price*(price_max-price_min)+price_min"
   ]
  },
  {
   "cell_type": "code",
   "execution_count": null,
   "metadata": {},
   "outputs": [],
   "source": []
  }
 ],
 "metadata": {
  "kernelspec": {
   "display_name": "Python 3",
   "language": "python",
   "name": "python3"
  },
  "language_info": {
   "codemirror_mode": {
    "name": "ipython",
    "version": 3
   },
   "file_extension": ".py",
   "mimetype": "text/x-python",
   "name": "python",
   "nbconvert_exporter": "python",
   "pygments_lexer": "ipython3",
   "version": "3.6.5"
  }
 },
 "nbformat": 4,
 "nbformat_minor": 2
}
